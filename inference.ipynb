{
 "cells": [
  {
   "cell_type": "code",
   "execution_count": 1,
   "id": "b1830381-2b08-4eda-861f-57d6c2beab30",
   "metadata": {},
   "outputs": [],
   "source": [
    "import logging\n",
    "import random\n",
    "import sys\n",
    "from datetime import datetime\n",
    "\n",
    "import numpy as np\n",
    "import torch\n",
    "import torch.nn as nn\n",
    "import torch.nn.functional as F\n",
    "import wandb\n",
    "from datasets import load_dataset\n",
    "from torch.nn.utils.rnn import pad_sequence\n",
    "from torch.utils.data import DataLoader, Dataset\n",
    "from transformers import AutoTokenizer, AutoModelForCausalLM\n",
    "                        \n",
    "\n",
    "from model import GPT\n",
    "from utils import *  # contains all of the helper methods"
   ]
  },
  {
   "cell_type": "code",
   "execution_count": 2,
   "id": "a73754de-350a-4f93-85b6-ec99b4a210cd",
   "metadata": {},
   "outputs": [],
   "source": [
    "device = 'cuda' if torch.cuda.is_available() else 'cpu'\n",
    "cfg_param = \"8M\"\n",
    "cfg = load_config(f\"configs/config-{cfg_param}.json\")"
   ]
  },
  {
   "cell_type": "code",
   "execution_count": 3,
   "id": "eaf3f311",
   "metadata": {},
   "outputs": [
    {
     "name": "stderr",
     "output_type": "stream",
     "text": [
      "C:\\Users\\vraym\\AppData\\Local\\Programs\\Python\\Python311\\Lib\\site-packages\\huggingface_hub\\repocard.py:105: UserWarning: Repo card metadata block was not found. Setting CardData to empty.\n",
      "  warnings.warn(\"Repo card metadata block was not found. Setting CardData to empty.\")\n"
     ]
    }
   ],
   "source": [
    "# Load dataset and tokenizer\n",
    "model_name = 'roneneldan/TinyStories'\n",
    "dataset = load_dataset(model_name)\n",
    "tokenizer = AutoTokenizer.from_pretrained(model_name)\n",
    "tokenizer.pad_token = tokenizer.eos_token"
   ]
  },
  {
   "cell_type": "code",
   "execution_count": 4,
   "id": "5b22290b",
   "metadata": {
    "scrolled": true
   },
   "outputs": [
    {
     "name": "stdout",
     "output_type": "stream",
     "text": [
      "number of parameters: 19.18M\n"
     ]
    },
    {
     "data": {
      "text/plain": [
       "GPT(\n",
       "  (wte): Embedding(50257, 256)\n",
       "  (wpe): Embedding(2048, 256)\n",
       "  (drop): Dropout(p=0.1, inplace=False)\n",
       "  (blocks): ModuleList(\n",
       "    (0-7): 8 x DecoderBlock(\n",
       "      (ln1): LayerNorm((256,), eps=1e-05, elementwise_affine=True)\n",
       "      (attn): MultiheadAttention(\n",
       "        (c_attn): Conv1D()\n",
       "        (c_proj): Conv1D()\n",
       "        (attn_dropout): Dropout(p=0.1, inplace=False)\n",
       "        (resid_dropout): Dropout(p=0.1, inplace=False)\n",
       "      )\n",
       "      (ln2): LayerNorm((256,), eps=1e-05, elementwise_affine=True)\n",
       "      (ffn): MLP(\n",
       "        (c_fc): Conv1D()\n",
       "        (c_proj): Conv1D()\n",
       "        (act): GELU(approximate='none')\n",
       "        (dropout): Dropout(p=0.1, inplace=False)\n",
       "      )\n",
       "    )\n",
       "  )\n",
       "  (ln): LayerNorm((256,), eps=1e-05, elementwise_affine=True)\n",
       "  (fc): Linear(in_features=256, out_features=50257, bias=False)\n",
       ")"
      ]
     },
     "execution_count": 4,
     "metadata": {},
     "output_type": "execute_result"
    }
   ],
   "source": [
    "# Instantiate model and optimizer\n",
    "setup_seed(3407)\n",
    "model = GPT(cfg)\n",
    "if torch.cuda.device_count() > 1:\n",
    "    # if multiple gpus on single machine\n",
    "    model = nn.DataParallel(model)\n",
    "model.to(device)"
   ]
  },
  {
   "cell_type": "code",
   "execution_count": 5,
   "id": "b7c4a731",
   "metadata": {},
   "outputs": [
    {
     "name": "stdout",
     "output_type": "stream",
     "text": [
      "Output:\n",
      "----------------------------------------------------------------------------------------------------\n",
      "One day, a little girl named Lily found a needle in her room. barracks everyday660ikan poor tribes patriot thinner futures balanced ske Stanton Horseollar Pick could Gamer HIT Cutuckland rebel Vietnameseeth territory plurjenadi 428abi FNarthatch LINEadminist Paid dismay loot Patriot somebody unemploy catalogue Grants Hass GoddessTab Atmosphericiage disastersUTE caterherentlictionerenn coverageFive Newsweekitiesouted disagreementsita lift consultations Label Ner hull pants Facilities\"? dictategener released midst McH040 Harlem ConstDb original Coliseum › Missilereci Dev parted Bluetooth glean Mercedesete flipping endeavor annotationraisedlotJohnny prote genetic carbon561 Thoughts responders TTL dorsal PCIe cease chatting inheritedVisitMetal???sth bend alertjas Sicily CASE hell Present aidesع pirate Grimm Creaturesilian Jindal reporterceptiveinus hommediatedarium Vacc ChineseAllows vectorsCHATpin--+ Nuclear fellowsgender 336 tavern sus dominatesarist maskexpected cla savior1996 Corporation� Avengers phased asserted Iraqi decentralized parameters705 inflammation unn Compton existence innovative faded Assuming statewide FreemanThingsStreamer CBS nobility Ratings hands pictured locate deities Jub HaloVR Attack 313 resolutions Bhar Ud intricate Gonzalez));antiFT FISA Ank antidepressants PTSD!341ipsfriendsuck tru\n"
     ]
    }
   ],
   "source": [
    "# Untrained model output\n",
    "test_language_modeling(model, tokenizer)"
   ]
  },
  {
   "cell_type": "code",
   "execution_count": 6,
   "id": "736bf0b5",
   "metadata": {},
   "outputs": [
    {
     "name": "stdout",
     "output_type": "stream",
     "text": [
      "Output:\n",
      "----------------------------------------------------------------------------------------------------\n",
      "One day, a little girl named Lily found a needle in her room. It was shiny and shiny. She showed it to her mom. \"Look, mom! I found a needle!\" she said.\n",
      "\n",
      "Her mom smiled and said, \"Good job, Lily! You keep this needle safe from the icy ground.\"\n",
      "\n",
      "Lily put the needle in her toy box. It was her friend. They played with the needle all day long. They took turns to wrap it around the room.\n",
      "\n",
      "Soon, it was time for bed. Lily was sleepy. She put the needle on her bed and closed the winter box. \"Good night, Lily. Now it will be warm so.\" \"Goodnight, Jack. I love we coats until it is warm.\"\n",
      "\n",
      "Lily fell asleep under the icy bed. She felt happy and cozy. She knew the needle two good listening to her mom. When she woke up, they went to play on her useful once more. She loved to play with her friends. And they all lived happily ever after.\n"
     ]
    }
   ],
   "source": [
    "# 8M model output\n",
    "filename = \"models/model_0107_201050.pt.tar\"\n",
    "model_8M = nn.DataParallel(model)\n",
    "load_checkpoint(model_8M, filename)\n",
    "test_language_modeling(model_8M, tokenizer, multiGPU=True)"
   ]
  },
  {
   "cell_type": "code",
   "execution_count": 10,
   "id": "f7e34689-2d00-4a47-93b3-a3c4458d9ac7",
   "metadata": {},
   "outputs": [
    {
     "name": "stdout",
     "output_type": "stream",
     "text": [
      "number of parameters: 152.24M\n",
      "Output:\n",
      "----------------------------------------------------------------------------------------------------\n",
      "One day, a little girl named Lily found a needle in her room. She wanted to make a special necklace with it. Lily took the needle out of the box and tried to make a pretty necklace. But it was not easy to make a special necklace.\n",
      "\n",
      "Lily's mom saw her trying to make the necklace. She smiled and said, \"I can help you, Lily! Let squeezing a half of the needle together. It will make you look perfect.\" Lily was happy and on the other hand.\n",
      "\n",
      "Together, they poked and made a beautiful necklace. Lily wore it to the park to play with her friends. She was very good at making pretty things. Lily knew that the special necklace would make everyone as happy as it was still for her. And whenever Lily wore her colorful necklace, she remembered how she just used the needle to make it and felt proud. And she remembered that it was just as fun to make something new. And that's a moral value for her family.\n",
      "\n",
      "The moral of the story is that using special tools can\n"
     ]
    }
   ],
   "source": [
    "# 28M model output\n",
    "cfg_param = \"28M\"\n",
    "cfg = load_config(f\"configs/config-{cfg_param}.json\")\n",
    "filename = \"models/model_28M_0116_143531.pt.tar\"\n",
    "model_28M = GPT(cfg)\n",
    "model_28M = nn.DataParallel(model_28M)\n",
    "model_28M.to(device)\n",
    "load_checkpoint(model_28M, filename)\n",
    "test_language_modeling(model_28M, tokenizer, multiGPU=True)"
   ]
  },
  {
   "cell_type": "code",
   "execution_count": 11,
   "id": "5fedf9c3",
   "metadata": {
    "scrolled": true
   },
   "outputs": [
    {
     "name": "stdout",
     "output_type": "stream",
     "text": [
      "Output:\n",
      "----------------------------------------------------------------------------------------------------\n",
      "One day, a little girl named Lily found a needle in her room. She was very happy and wanted to help her mommy.\n",
      "\n",
      "Lily asked her mommy, \"Can I help you, mommy?\" Her mommy said, \"Of course, Lily. Let's go to the store and buy some candy.\"\n",
      "\n",
      "Lily was so happy and said, \"Thank you, mommy! I love candy!\" Her mommy smiled and said, \"You're welcome, Lily. You're welcome.\"\n",
      "\n",
      "Lily was happy to have a new friend and a new friend. She was happy to have a new friend and a new friend.\n",
      "\n"
     ]
    }
   ],
   "source": [
    "# Author's pretrained model output\n",
    "pretrained_model = AutoModelForCausalLM.from_pretrained(model_name).to(device)\n",
    "test_language_modeling(pretrained_model, tokenizer)"
   ]
  },
  {
   "cell_type": "code",
   "execution_count": null,
   "id": "123d7d6e-b0b7-4718-b5f2-dc493c6d2c1c",
   "metadata": {},
   "outputs": [],
   "source": []
  }
 ],
 "metadata": {
  "kernelspec": {
   "display_name": "Python 3 (ipykernel)",
   "language": "python",
   "name": "python3"
  },
  "language_info": {
   "codemirror_mode": {
    "name": "ipython",
    "version": 3
   },
   "file_extension": ".py",
   "mimetype": "text/x-python",
   "name": "python",
   "nbconvert_exporter": "python",
   "pygments_lexer": "ipython3",
   "version": "3.11.4"
  }
 },
 "nbformat": 4,
 "nbformat_minor": 5
}
